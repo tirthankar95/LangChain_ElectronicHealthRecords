{
 "cells": [
  {
   "cell_type": "code",
   "execution_count": 86,
   "metadata": {},
   "outputs": [],
   "source": [
    "import numpy as np \n",
    "import pandas as pd"
   ]
  },
  {
   "cell_type": "code",
   "execution_count": 87,
   "metadata": {},
   "outputs": [],
   "source": [
    "def sigmoid(x):\n",
    "    return 1/(1 + np.exp(-x))"
   ]
  },
  {
   "cell_type": "code",
   "execution_count": 88,
   "metadata": {},
   "outputs": [
    {
     "data": {
      "text/html": [
       "<div>\n",
       "<style scoped>\n",
       "    .dataframe tbody tr th:only-of-type {\n",
       "        vertical-align: middle;\n",
       "    }\n",
       "\n",
       "    .dataframe tbody tr th {\n",
       "        vertical-align: top;\n",
       "    }\n",
       "\n",
       "    .dataframe thead th {\n",
       "        text-align: right;\n",
       "    }\n",
       "</style>\n",
       "<table border=\"1\" class=\"dataframe\">\n",
       "  <thead>\n",
       "    <tr style=\"text-align: right;\">\n",
       "      <th></th>\n",
       "      <th>f0</th>\n",
       "      <th>f1</th>\n",
       "      <th>f2</th>\n",
       "      <th>f3</th>\n",
       "      <th>f4</th>\n",
       "      <th>f5</th>\n",
       "      <th>f6</th>\n",
       "      <th>f7</th>\n",
       "      <th>f8</th>\n",
       "      <th>f9</th>\n",
       "      <th>has_disease</th>\n",
       "    </tr>\n",
       "  </thead>\n",
       "  <tbody>\n",
       "    <tr>\n",
       "      <th>count</th>\n",
       "      <td>1015.000000</td>\n",
       "      <td>1015.000000</td>\n",
       "      <td>1015.000000</td>\n",
       "      <td>1015.000000</td>\n",
       "      <td>1015.000000</td>\n",
       "      <td>1015.000000</td>\n",
       "      <td>1015.000000</td>\n",
       "      <td>1015.000000</td>\n",
       "      <td>1015.000000</td>\n",
       "      <td>1015.000000</td>\n",
       "      <td>1000.000000</td>\n",
       "    </tr>\n",
       "    <tr>\n",
       "      <th>mean</th>\n",
       "      <td>0.061449</td>\n",
       "      <td>0.013504</td>\n",
       "      <td>0.039953</td>\n",
       "      <td>-0.024244</td>\n",
       "      <td>-0.024503</td>\n",
       "      <td>-0.019314</td>\n",
       "      <td>-0.009680</td>\n",
       "      <td>0.021369</td>\n",
       "      <td>0.009249</td>\n",
       "      <td>0.029241</td>\n",
       "      <td>0.492000</td>\n",
       "    </tr>\n",
       "    <tr>\n",
       "      <th>std</th>\n",
       "      <td>1.000709</td>\n",
       "      <td>1.015254</td>\n",
       "      <td>0.968215</td>\n",
       "      <td>0.956746</td>\n",
       "      <td>0.997461</td>\n",
       "      <td>0.982093</td>\n",
       "      <td>1.018321</td>\n",
       "      <td>1.023561</td>\n",
       "      <td>1.001106</td>\n",
       "      <td>0.982875</td>\n",
       "      <td>0.500186</td>\n",
       "    </tr>\n",
       "    <tr>\n",
       "      <th>min</th>\n",
       "      <td>-3.104985</td>\n",
       "      <td>-3.043772</td>\n",
       "      <td>-3.200309</td>\n",
       "      <td>-3.291390</td>\n",
       "      <td>-3.326150</td>\n",
       "      <td>-3.631807</td>\n",
       "      <td>-3.160980</td>\n",
       "      <td>-2.831989</td>\n",
       "      <td>-2.756445</td>\n",
       "      <td>-3.375938</td>\n",
       "      <td>0.000000</td>\n",
       "    </tr>\n",
       "    <tr>\n",
       "      <th>25%</th>\n",
       "      <td>-0.589106</td>\n",
       "      <td>-0.665436</td>\n",
       "      <td>-0.602495</td>\n",
       "      <td>-0.653597</td>\n",
       "      <td>-0.650038</td>\n",
       "      <td>-0.702880</td>\n",
       "      <td>-0.689058</td>\n",
       "      <td>-0.645849</td>\n",
       "      <td>-0.667977</td>\n",
       "      <td>-0.603557</td>\n",
       "      <td>0.000000</td>\n",
       "    </tr>\n",
       "    <tr>\n",
       "      <th>50%</th>\n",
       "      <td>0.106448</td>\n",
       "      <td>0.036269</td>\n",
       "      <td>0.071767</td>\n",
       "      <td>-0.011506</td>\n",
       "      <td>-0.028608</td>\n",
       "      <td>-0.005093</td>\n",
       "      <td>-0.060797</td>\n",
       "      <td>-0.006804</td>\n",
       "      <td>0.007702</td>\n",
       "      <td>-0.012481</td>\n",
       "      <td>0.000000</td>\n",
       "    </tr>\n",
       "    <tr>\n",
       "      <th>75%</th>\n",
       "      <td>0.778492</td>\n",
       "      <td>0.681728</td>\n",
       "      <td>0.684049</td>\n",
       "      <td>0.648392</td>\n",
       "      <td>0.612200</td>\n",
       "      <td>0.670594</td>\n",
       "      <td>0.696355</td>\n",
       "      <td>0.729392</td>\n",
       "      <td>0.697494</td>\n",
       "      <td>0.700107</td>\n",
       "      <td>1.000000</td>\n",
       "    </tr>\n",
       "    <tr>\n",
       "      <th>max</th>\n",
       "      <td>3.072266</td>\n",
       "      <td>4.531459</td>\n",
       "      <td>3.057448</td>\n",
       "      <td>2.975510</td>\n",
       "      <td>3.026105</td>\n",
       "      <td>3.194191</td>\n",
       "      <td>3.081658</td>\n",
       "      <td>3.083940</td>\n",
       "      <td>2.856670</td>\n",
       "      <td>3.683265</td>\n",
       "      <td>1.000000</td>\n",
       "    </tr>\n",
       "  </tbody>\n",
       "</table>\n",
       "</div>"
      ],
      "text/plain": [
       "                f0           f1           f2           f3           f4  \\\n",
       "count  1015.000000  1015.000000  1015.000000  1015.000000  1015.000000   \n",
       "mean      0.061449     0.013504     0.039953    -0.024244    -0.024503   \n",
       "std       1.000709     1.015254     0.968215     0.956746     0.997461   \n",
       "min      -3.104985    -3.043772    -3.200309    -3.291390    -3.326150   \n",
       "25%      -0.589106    -0.665436    -0.602495    -0.653597    -0.650038   \n",
       "50%       0.106448     0.036269     0.071767    -0.011506    -0.028608   \n",
       "75%       0.778492     0.681728     0.684049     0.648392     0.612200   \n",
       "max       3.072266     4.531459     3.057448     2.975510     3.026105   \n",
       "\n",
       "                f5           f6           f7           f8           f9  \\\n",
       "count  1015.000000  1015.000000  1015.000000  1015.000000  1015.000000   \n",
       "mean     -0.019314    -0.009680     0.021369     0.009249     0.029241   \n",
       "std       0.982093     1.018321     1.023561     1.001106     0.982875   \n",
       "min      -3.631807    -3.160980    -2.831989    -2.756445    -3.375938   \n",
       "25%      -0.702880    -0.689058    -0.645849    -0.667977    -0.603557   \n",
       "50%      -0.005093    -0.060797    -0.006804     0.007702    -0.012481   \n",
       "75%       0.670594     0.696355     0.729392     0.697494     0.700107   \n",
       "max       3.194191     3.081658     3.083940     2.856670     3.683265   \n",
       "\n",
       "       has_disease  \n",
       "count  1000.000000  \n",
       "mean      0.492000  \n",
       "std       0.500186  \n",
       "min       0.000000  \n",
       "25%       0.000000  \n",
       "50%       0.000000  \n",
       "75%       1.000000  \n",
       "max       1.000000  "
      ]
     },
     "execution_count": 88,
     "metadata": {},
     "output_type": "execute_result"
    }
   ],
   "source": [
    "df_m = pd.read_csv(\"Disease_e432.csv\")\n",
    "df_m.describe()"
   ]
  },
  {
   "cell_type": "code",
   "execution_count": 89,
   "metadata": {},
   "outputs": [
    {
     "data": {
      "text/html": [
       "<div>\n",
       "<style scoped>\n",
       "    .dataframe tbody tr th:only-of-type {\n",
       "        vertical-align: middle;\n",
       "    }\n",
       "\n",
       "    .dataframe tbody tr th {\n",
       "        vertical-align: top;\n",
       "    }\n",
       "\n",
       "    .dataframe thead th {\n",
       "        text-align: right;\n",
       "    }\n",
       "</style>\n",
       "<table border=\"1\" class=\"dataframe\">\n",
       "  <thead>\n",
       "    <tr style=\"text-align: right;\">\n",
       "      <th></th>\n",
       "      <th>0</th>\n",
       "      <th>1</th>\n",
       "      <th>2</th>\n",
       "      <th>3</th>\n",
       "      <th>4</th>\n",
       "    </tr>\n",
       "  </thead>\n",
       "  <tbody>\n",
       "    <tr>\n",
       "      <th>name</th>\n",
       "      <td>P0</td>\n",
       "      <td>P1</td>\n",
       "      <td>P2</td>\n",
       "      <td>P3</td>\n",
       "      <td>P4</td>\n",
       "    </tr>\n",
       "    <tr>\n",
       "      <th>f0</th>\n",
       "      <td>0.797847</td>\n",
       "      <td>-0.128786</td>\n",
       "      <td>0.473949</td>\n",
       "      <td>-1.587714</td>\n",
       "      <td>0.10568</td>\n",
       "    </tr>\n",
       "    <tr>\n",
       "      <th>f1</th>\n",
       "      <td>1.05665</td>\n",
       "      <td>0.300952</td>\n",
       "      <td>-1.527089</td>\n",
       "      <td>0.274934</td>\n",
       "      <td>-1.030349</td>\n",
       "    </tr>\n",
       "    <tr>\n",
       "      <th>f2</th>\n",
       "      <td>0.399665</td>\n",
       "      <td>0.10515</td>\n",
       "      <td>-0.047438</td>\n",
       "      <td>-1.207918</td>\n",
       "      <td>-0.748718</td>\n",
       "    </tr>\n",
       "    <tr>\n",
       "      <th>f3</th>\n",
       "      <td>-0.337369</td>\n",
       "      <td>-1.739722</td>\n",
       "      <td>-0.418057</td>\n",
       "      <td>1.636696</td>\n",
       "      <td>-0.235349</td>\n",
       "    </tr>\n",
       "    <tr>\n",
       "      <th>f4</th>\n",
       "      <td>-0.473735</td>\n",
       "      <td>-2.266174</td>\n",
       "      <td>0.610244</td>\n",
       "      <td>0.150616</td>\n",
       "      <td>-1.420643</td>\n",
       "    </tr>\n",
       "    <tr>\n",
       "      <th>f5</th>\n",
       "      <td>-0.195699</td>\n",
       "      <td>1.08588</td>\n",
       "      <td>1.321639</td>\n",
       "      <td>-0.175028</td>\n",
       "      <td>-1.277329</td>\n",
       "    </tr>\n",
       "    <tr>\n",
       "      <th>f6</th>\n",
       "      <td>-0.338654</td>\n",
       "      <td>-0.369869</td>\n",
       "      <td>-0.129651</td>\n",
       "      <td>0.725456</td>\n",
       "      <td>-2.491605</td>\n",
       "    </tr>\n",
       "    <tr>\n",
       "      <th>f7</th>\n",
       "      <td>-0.97204</td>\n",
       "      <td>-0.309987</td>\n",
       "      <td>0.574123</td>\n",
       "      <td>-0.429067</td>\n",
       "      <td>0.894299</td>\n",
       "    </tr>\n",
       "    <tr>\n",
       "      <th>f8</th>\n",
       "      <td>1.193842</td>\n",
       "      <td>-0.070969</td>\n",
       "      <td>0.761331</td>\n",
       "      <td>0.780608</td>\n",
       "      <td>-1.039067</td>\n",
       "    </tr>\n",
       "    <tr>\n",
       "      <th>f9</th>\n",
       "      <td>-0.345577</td>\n",
       "      <td>-0.139397</td>\n",
       "      <td>0.233435</td>\n",
       "      <td>-0.794343</td>\n",
       "      <td>1.051551</td>\n",
       "    </tr>\n",
       "    <tr>\n",
       "      <th>has_disease</th>\n",
       "      <td>0.0</td>\n",
       "      <td>0.0</td>\n",
       "      <td>0.0</td>\n",
       "      <td>0.0</td>\n",
       "      <td>1.0</td>\n",
       "    </tr>\n",
       "  </tbody>\n",
       "</table>\n",
       "</div>"
      ],
      "text/plain": [
       "                    0         1         2         3         4\n",
       "name               P0        P1        P2        P3        P4\n",
       "f0           0.797847 -0.128786  0.473949 -1.587714   0.10568\n",
       "f1            1.05665  0.300952 -1.527089  0.274934 -1.030349\n",
       "f2           0.399665   0.10515 -0.047438 -1.207918 -0.748718\n",
       "f3          -0.337369 -1.739722 -0.418057  1.636696 -0.235349\n",
       "f4          -0.473735 -2.266174  0.610244  0.150616 -1.420643\n",
       "f5          -0.195699   1.08588  1.321639 -0.175028 -1.277329\n",
       "f6          -0.338654 -0.369869 -0.129651  0.725456 -2.491605\n",
       "f7           -0.97204 -0.309987  0.574123 -0.429067  0.894299\n",
       "f8           1.193842 -0.070969  0.761331  0.780608 -1.039067\n",
       "f9          -0.345577 -0.139397  0.233435 -0.794343  1.051551\n",
       "has_disease       0.0       0.0       0.0       0.0       1.0"
      ]
     },
     "execution_count": 89,
     "metadata": {},
     "output_type": "execute_result"
    }
   ],
   "source": [
    "df_m.head().T"
   ]
  },
  {
   "cell_type": "code",
   "execution_count": 90,
   "metadata": {},
   "outputs": [],
   "source": [
    "from sklearn.model_selection import train_test_split \n",
    "\n",
    "dat_test = df_m[df_m[\"has_disease\"].isna()]\n",
    "Xtest, Ytest = dat_test[[col for col in dat_test.columns if col != \"has_disease\"]], \\\n",
    "               dat_test[\"has_disease\"]\n",
    "\n",
    "dat_tr_cv = df_m[~(df_m[\"has_disease\"].isna())]\n",
    "X_tr_cv, Y_tr_cv = dat_tr_cv.drop(\"has_disease\", axis = 1), \\\n",
    "                   dat_tr_cv[\"has_disease\"]\n",
    "\n",
    "Xtr, Xcv, Ytr, Ycv = train_test_split(X_tr_cv, Y_tr_cv, test_size = 0.2, shuffle=True)"
   ]
  },
  {
   "cell_type": "code",
   "execution_count": 91,
   "metadata": {},
   "outputs": [
    {
     "data": {
      "text/plain": [
       "((800, 11), (800,), (200, 11), (200,), (15, 11), (15,))"
      ]
     },
     "execution_count": 91,
     "metadata": {},
     "output_type": "execute_result"
    }
   ],
   "source": [
    "Xtr.shape, Ytr.shape, Xcv.shape, Ycv.shape, Xtest.shape, Ytest.shape"
   ]
  },
  {
   "cell_type": "code",
   "execution_count": 92,
   "metadata": {},
   "outputs": [
    {
     "name": "stderr",
     "output_type": "stream",
     "text": [
      "c:\\ProgramData\\Anaconda3\\lib\\site-packages\\pandas\\core\\frame.py:4906: SettingWithCopyWarning: \n",
      "A value is trying to be set on a copy of a slice from a DataFrame\n",
      "\n",
      "See the caveats in the documentation: https://pandas.pydata.org/pandas-docs/stable/user_guide/indexing.html#returning-a-view-versus-a-copy\n",
      "  return super().drop(\n"
     ]
    },
    {
     "data": {
      "text/plain": [
       "StandardScaler()"
      ]
     },
     "execution_count": 92,
     "metadata": {},
     "output_type": "execute_result"
    }
   ],
   "source": [
    "from sklearn.preprocessing import StandardScaler\n",
    "\n",
    "try:\n",
    "    Xtr.drop('name', axis = 1, inplace=True)\n",
    "    Xcv.drop('name', axis = 1, inplace=True)\n",
    "except:\n",
    "    print('[TM] Already dropped.')\n",
    "scaler = StandardScaler()\n",
    "scaler.fit(Xtr)"
   ]
  },
  {
   "cell_type": "code",
   "execution_count": 93,
   "metadata": {},
   "outputs": [],
   "source": [
    "X_tr_sc = scaler.transform(Xtr)\n",
    "X_cv_sc = scaler.transform(Xcv)"
   ]
  },
  {
   "cell_type": "code",
   "execution_count": 94,
   "metadata": {},
   "outputs": [],
   "source": [
    "from sklearn.linear_model import LogisticRegression\n",
    "lambdas = np.linspace(0.01, 10, 100)\n",
    "tr_loss, te_loss = [], []\n",
    "\n",
    "def accuracy(Yp, Y):\n",
    "    return (Yp == Y).mean()\n",
    "for lmbda in lambdas:\n",
    "    model = LogisticRegression(C = 1/lmbda)\n",
    "    model.fit(X_tr_sc, Ytr)\n",
    "    tr_loss.append(accuracy(model.predict(X_tr_sc), Ytr))\n",
    "    te_loss.append(accuracy(model.predict(X_cv_sc), Ycv))"
   ]
  },
  {
   "cell_type": "code",
   "execution_count": 95,
   "metadata": {},
   "outputs": [
    {
     "name": "stderr",
     "output_type": "stream",
     "text": [
      "c:\\ProgramData\\Anaconda3\\lib\\site-packages\\seaborn\\_decorators.py:36: FutureWarning: Pass the following variables as keyword args: x, y. From version 0.12, the only valid positional argument will be `data`, and passing other arguments without an explicit keyword will result in an error or misinterpretation.\n",
      "  warnings.warn(\n",
      "c:\\ProgramData\\Anaconda3\\lib\\site-packages\\seaborn\\_decorators.py:36: FutureWarning: Pass the following variables as keyword args: x, y. From version 0.12, the only valid positional argument will be `data`, and passing other arguments without an explicit keyword will result in an error or misinterpretation.\n",
      "  warnings.warn(\n"
     ]
    },
    {
     "data": {
      "image/png": "[encoded data removed]",
      "text/plain": [
       "<Figure size 720x432 with 1 Axes>"
      ]
     },
     "metadata": {
      "needs_background": "light"
     },
     "output_type": "display_data"
    }
   ],
   "source": [
    "import matplotlib.pyplot as plt \n",
    "import seaborn as sns\n",
    " \n",
    "plt.figure(figsize=(10, 6))\n",
    "sns.lineplot(lambdas , tr_loss)\n",
    "sns.lineplot(lambdas, te_loss)\n",
    "plt.xlabel('lambda')\n",
    "plt.ylabel('Loss')\n",
    "plt.legend([\"Training Loss\", \"Validation Loss\"])\n",
    "plt.show()"
   ]
  },
  {
   "cell_type": "code",
   "execution_count": 108,
   "metadata": {},
   "outputs": [
    {
     "data": {
      "text/plain": [
       "LogisticRegression(C=100.0)"
      ]
     },
     "execution_count": 108,
     "metadata": {},
     "output_type": "execute_result"
    }
   ],
   "source": [
    "X_total = dat_tr_cv.drop([\"name\", \"has_disease\"], axis = 1)\n",
    "X_total = scaler.transform(X_total)\n",
    "Y_total = dat_tr_cv[\"has_disease\"]\n",
    "\n",
    "lmbda = 0.01 \n",
    "model_total = LogisticRegression(C = 1/lmbda)\n",
    "model_total.fit(X_total, Y_total)"
   ]
  },
  {
   "cell_type": "code",
   "execution_count": 109,
   "metadata": {},
   "outputs": [
    {
     "name": "stdout",
     "output_type": "stream",
     "text": [
      "Model Accuracy: 96.0%\n"
     ]
    }
   ],
   "source": [
    "print(f'Model Accuracy: {accuracy(model.predict(X_cv_sc), Ycv) * 100}%')"
   ]
  },
  {
   "cell_type": "code",
   "execution_count": 110,
   "metadata": {},
   "outputs": [
    {
     "name": "stdout",
     "output_type": "stream",
     "text": [
      "Model Accuracy [Train Total]: 98.3%\n"
     ]
    }
   ],
   "source": [
    "print(f'Model Accuracy [Train Total]: {accuracy(model_total.predict(X_total), Y_total) * 100}%')"
   ]
  },
  {
   "cell_type": "code",
   "execution_count": 102,
   "metadata": {},
   "outputs": [
    {
     "data": {
      "text/plain": [
       "(array([[ -8.24263636,   6.66317931,  -4.42556919,   1.33188246,\n",
       "          10.25711034,  -3.31004543,   2.4892586 , -10.85986612,\n",
       "         -39.18127275,  14.32132099]]),\n",
       " array([0.00851371]))"
      ]
     },
     "execution_count": 102,
     "metadata": {},
     "output_type": "execute_result"
    }
   ],
   "source": [
    "model_total.coef_, model_total.intercept_"
   ]
  },
  {
   "cell_type": "code",
   "execution_count": 113,
   "metadata": {},
   "outputs": [],
   "source": [
    "import pickle \n",
    "\n",
    "total_model = {\n",
    "    \"model\": model_total,\n",
    "    \"lambda\": 0.01,\n",
    "    \"scaler\": scaler\n",
    "}\n",
    "with open(\"e432.ml\", \"wb\") as file:\n",
    "    pickle.dump(total_model, file)"
   ]
  },
  {
   "cell_type": "markdown",
   "metadata": {},
   "source": [
    "### Loading model and doing operations on Xtest"
   ]
  },
  {
   "cell_type": "code",
   "execution_count": null,
   "metadata": {},
   "outputs": [],
   "source": [
    "with open(\"e432.ml\", \"rb\") as file:\n",
    "    total_model = pickle.load(file)\n",
    "\n",
    "Xtest = Xtest.drop(\"name\", axis = 1)\n",
    "Xtest = total_model[\"scaler\"].transform(Xtest)\n",
    "Yp = total_model[\"model\"].predict(Xtest)"
   ]
  },
  {
   "cell_type": "code",
   "execution_count": 117,
   "metadata": {},
   "outputs": [
    {
     "name": "stderr",
     "output_type": "stream",
     "text": [
      "C:\\Users\\tirth\\AppData\\Local\\Temp/ipykernel_68092/355273933.py:1: SettingWithCopyWarning: \n",
      "A value is trying to be set on a copy of a slice from a DataFrame.\n",
      "Try using .loc[row_indexer,col_indexer] = value instead\n",
      "\n",
      "See the caveats in the documentation: https://pandas.pydata.org/pandas-docs/stable/user_guide/indexing.html#returning-a-view-versus-a-copy\n",
      "  dat_test[\"has_disease\"] = Yp\n"
     ]
    }
   ],
   "source": [
    "dat_test[\"has_disease\"] = Yp"
   ]
  },
  {
   "cell_type": "code",
   "execution_count": 120,
   "metadata": {},
   "outputs": [
    {
     "data": {
      "text/html": [
       "<div>\n",
       "<style scoped>\n",
       "    .dataframe tbody tr th:only-of-type {\n",
       "        vertical-align: middle;\n",
       "    }\n",
       "\n",
       "    .dataframe tbody tr th {\n",
       "        vertical-align: top;\n",
       "    }\n",
       "\n",
       "    .dataframe thead th {\n",
       "        text-align: right;\n",
       "    }\n",
       "</style>\n",
       "<table border=\"1\" class=\"dataframe\">\n",
       "  <thead>\n",
       "    <tr style=\"text-align: right;\">\n",
       "      <th></th>\n",
       "      <th>name</th>\n",
       "      <th>has_disease</th>\n",
       "    </tr>\n",
       "  </thead>\n",
       "  <tbody>\n",
       "    <tr>\n",
       "      <th>1000</th>\n",
       "      <td>PT0</td>\n",
       "      <td>0.0</td>\n",
       "    </tr>\n",
       "    <tr>\n",
       "      <th>1001</th>\n",
       "      <td>PT1</td>\n",
       "      <td>0.0</td>\n",
       "    </tr>\n",
       "    <tr>\n",
       "      <th>1002</th>\n",
       "      <td>PT2</td>\n",
       "      <td>1.0</td>\n",
       "    </tr>\n",
       "    <tr>\n",
       "      <th>1003</th>\n",
       "      <td>PT3</td>\n",
       "      <td>0.0</td>\n",
       "    </tr>\n",
       "    <tr>\n",
       "      <th>1004</th>\n",
       "      <td>PT4</td>\n",
       "      <td>0.0</td>\n",
       "    </tr>\n",
       "    <tr>\n",
       "      <th>1005</th>\n",
       "      <td>PT5</td>\n",
       "      <td>0.0</td>\n",
       "    </tr>\n",
       "    <tr>\n",
       "      <th>1006</th>\n",
       "      <td>PT6</td>\n",
       "      <td>0.0</td>\n",
       "    </tr>\n",
       "    <tr>\n",
       "      <th>1007</th>\n",
       "      <td>PT7</td>\n",
       "      <td>1.0</td>\n",
       "    </tr>\n",
       "    <tr>\n",
       "      <th>1008</th>\n",
       "      <td>PT8</td>\n",
       "      <td>1.0</td>\n",
       "    </tr>\n",
       "    <tr>\n",
       "      <th>1009</th>\n",
       "      <td>PT9</td>\n",
       "      <td>0.0</td>\n",
       "    </tr>\n",
       "    <tr>\n",
       "      <th>1010</th>\n",
       "      <td>PT10</td>\n",
       "      <td>0.0</td>\n",
       "    </tr>\n",
       "    <tr>\n",
       "      <th>1011</th>\n",
       "      <td>PT11</td>\n",
       "      <td>1.0</td>\n",
       "    </tr>\n",
       "    <tr>\n",
       "      <th>1012</th>\n",
       "      <td>PT12</td>\n",
       "      <td>1.0</td>\n",
       "    </tr>\n",
       "    <tr>\n",
       "      <th>1013</th>\n",
       "      <td>PT13</td>\n",
       "      <td>1.0</td>\n",
       "    </tr>\n",
       "    <tr>\n",
       "      <th>1014</th>\n",
       "      <td>PT14</td>\n",
       "      <td>0.0</td>\n",
       "    </tr>\n",
       "  </tbody>\n",
       "</table>\n",
       "</div>"
      ],
      "text/plain": [
       "      name  has_disease\n",
       "1000   PT0          0.0\n",
       "1001   PT1          0.0\n",
       "1002   PT2          1.0\n",
       "1003   PT3          0.0\n",
       "1004   PT4          0.0\n",
       "1005   PT5          0.0\n",
       "1006   PT6          0.0\n",
       "1007   PT7          1.0\n",
       "1008   PT8          1.0\n",
       "1009   PT9          0.0\n",
       "1010  PT10          0.0\n",
       "1011  PT11          1.0\n",
       "1012  PT12          1.0\n",
       "1013  PT13          1.0\n",
       "1014  PT14          0.0"
      ]
     },
     "execution_count": 120,
     "metadata": {},
     "output_type": "execute_result"
    }
   ],
   "source": [
    "dat_test[[\"name\", \"has_disease\"]]"
   ]
  }
 ],
 "metadata": {
  "kernelspec": {
   "display_name": "base",
   "language": "python",
   "name": "python3"
  },
  "language_info": {
   "codemirror_mode": {
    "name": "ipython",
    "version": 3
   },
   "file_extension": ".py",
   "mimetype": "text/x-python",
   "name": "python",
   "nbconvert_exporter": "python",
   "pygments_lexer": "ipython3",
   "version": "3.9.7"
  }
 },
 "nbformat": 4,
 "nbformat_minor": 2
}
