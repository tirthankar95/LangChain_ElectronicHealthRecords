{
 "cells": [
  {
   "cell_type": "code",
   "execution_count": 140,
   "metadata": {},
   "outputs": [],
   "source": [
    "import numpy as np \n",
    "import pandas as pd"
   ]
  },
  {
   "cell_type": "code",
   "execution_count": 141,
   "metadata": {},
   "outputs": [],
   "source": [
    "def sigmoid(x):\n",
    "    return 1/(1 + np.exp(-x))"
   ]
  },
  {
   "cell_type": "code",
   "execution_count": 142,
   "metadata": {},
   "outputs": [],
   "source": [
    "n_patients = 1000 \n",
    "\n",
    "n_tests = 10 \n",
    "test_name = [f\"f{x}\" for x in range(n_tests)]\n",
    "\n",
    "mega_tests = np.random.randn(n_patients, n_tests)\n",
    "patient_name = [f\"P{x}\" for x in range(n_patients)]\n",
    "df = pd.DataFrame(list(zip(patient_name, *zip(*mega_tests))), columns= [\"name\"] + test_name)\n",
    "\n",
    "# Adding Prediction.\n",
    "wts = np.random.randn(n_tests, 1)\n",
    "std = 0.1\n",
    "y = mega_tests @ wts + std * np.random.randn(n_patients, 1)\n",
    "df['disease_prob'] = sigmoid(y)"
   ]
  },
  {
   "cell_type": "code",
   "execution_count": 143,
   "metadata": {},
   "outputs": [],
   "source": [
    "n_patients = 15 \n",
    "\n",
    "n_tests = 10 \n",
    "test_name = [f\"f{x}\" for x in range(n_tests)]\n",
    "\n",
    "mega_tests = np.random.randn(n_patients, n_tests)\n",
    "patient_name = [f\"PT{x}\" for x in range(n_patients)]\n",
    "dft = pd.DataFrame(list(zip(patient_name, *zip(*mega_tests))), columns= [\"name\"] + test_name)"
   ]
  },
  {
   "cell_type": "code",
   "execution_count": 144,
   "metadata": {},
   "outputs": [],
   "source": [
    "df_m = pd.concat([df, dft])"
   ]
  },
  {
   "cell_type": "code",
   "execution_count": 145,
   "metadata": {},
   "outputs": [
    {
     "data": {
      "text/html": [
       "<div>\n",
       "<style scoped>\n",
       "    .dataframe tbody tr th:only-of-type {\n",
       "        vertical-align: middle;\n",
       "    }\n",
       "\n",
       "    .dataframe tbody tr th {\n",
       "        vertical-align: top;\n",
       "    }\n",
       "\n",
       "    .dataframe thead th {\n",
       "        text-align: right;\n",
       "    }\n",
       "</style>\n",
       "<table border=\"1\" class=\"dataframe\">\n",
       "  <thead>\n",
       "    <tr style=\"text-align: right;\">\n",
       "      <th></th>\n",
       "      <th>0</th>\n",
       "      <th>1</th>\n",
       "      <th>2</th>\n",
       "      <th>3</th>\n",
       "      <th>4</th>\n",
       "    </tr>\n",
       "  </thead>\n",
       "  <tbody>\n",
       "    <tr>\n",
       "      <th>name</th>\n",
       "      <td>P0</td>\n",
       "      <td>P1</td>\n",
       "      <td>P2</td>\n",
       "      <td>P3</td>\n",
       "      <td>P4</td>\n",
       "    </tr>\n",
       "    <tr>\n",
       "      <th>f0</th>\n",
       "      <td>0.128947</td>\n",
       "      <td>0.142428</td>\n",
       "      <td>-0.442881</td>\n",
       "      <td>-0.202765</td>\n",
       "      <td>-1.470125</td>\n",
       "    </tr>\n",
       "    <tr>\n",
       "      <th>f1</th>\n",
       "      <td>-0.201857</td>\n",
       "      <td>0.907192</td>\n",
       "      <td>-2.043614</td>\n",
       "      <td>0.648578</td>\n",
       "      <td>-2.270765</td>\n",
       "    </tr>\n",
       "    <tr>\n",
       "      <th>f2</th>\n",
       "      <td>1.432165</td>\n",
       "      <td>0.255912</td>\n",
       "      <td>-0.03119</td>\n",
       "      <td>-0.141706</td>\n",
       "      <td>-0.740985</td>\n",
       "    </tr>\n",
       "    <tr>\n",
       "      <th>f3</th>\n",
       "      <td>0.166448</td>\n",
       "      <td>-0.444975</td>\n",
       "      <td>-0.162272</td>\n",
       "      <td>-0.884873</td>\n",
       "      <td>-1.80839</td>\n",
       "    </tr>\n",
       "    <tr>\n",
       "      <th>f4</th>\n",
       "      <td>0.433009</td>\n",
       "      <td>-0.645823</td>\n",
       "      <td>0.458364</td>\n",
       "      <td>1.078931</td>\n",
       "      <td>0.05764</td>\n",
       "    </tr>\n",
       "    <tr>\n",
       "      <th>f5</th>\n",
       "      <td>0.461571</td>\n",
       "      <td>1.234008</td>\n",
       "      <td>-0.236585</td>\n",
       "      <td>-0.192733</td>\n",
       "      <td>-1.479546</td>\n",
       "    </tr>\n",
       "    <tr>\n",
       "      <th>f6</th>\n",
       "      <td>0.43302</td>\n",
       "      <td>-1.167625</td>\n",
       "      <td>0.0128</td>\n",
       "      <td>-0.174326</td>\n",
       "      <td>-1.183899</td>\n",
       "    </tr>\n",
       "    <tr>\n",
       "      <th>f7</th>\n",
       "      <td>1.14346</td>\n",
       "      <td>1.081185</td>\n",
       "      <td>0.133734</td>\n",
       "      <td>1.410768</td>\n",
       "      <td>0.556934</td>\n",
       "    </tr>\n",
       "    <tr>\n",
       "      <th>f8</th>\n",
       "      <td>0.590826</td>\n",
       "      <td>-0.024522</td>\n",
       "      <td>-1.437295</td>\n",
       "      <td>2.153012</td>\n",
       "      <td>-1.126765</td>\n",
       "    </tr>\n",
       "    <tr>\n",
       "      <th>f9</th>\n",
       "      <td>1.11943</td>\n",
       "      <td>-1.229586</td>\n",
       "      <td>-1.064532</td>\n",
       "      <td>-0.728066</td>\n",
       "      <td>0.830092</td>\n",
       "    </tr>\n",
       "    <tr>\n",
       "      <th>disease_prob</th>\n",
       "      <td>0.024385</td>\n",
       "      <td>0.944053</td>\n",
       "      <td>0.404516</td>\n",
       "      <td>0.030075</td>\n",
       "      <td>0.081149</td>\n",
       "    </tr>\n",
       "  </tbody>\n",
       "</table>\n",
       "</div>"
      ],
      "text/plain": [
       "                     0         1         2         3         4\n",
       "name                P0        P1        P2        P3        P4\n",
       "f0            0.128947  0.142428 -0.442881 -0.202765 -1.470125\n",
       "f1           -0.201857  0.907192 -2.043614  0.648578 -2.270765\n",
       "f2            1.432165  0.255912  -0.03119 -0.141706 -0.740985\n",
       "f3            0.166448 -0.444975 -0.162272 -0.884873  -1.80839\n",
       "f4            0.433009 -0.645823  0.458364  1.078931   0.05764\n",
       "f5            0.461571  1.234008 -0.236585 -0.192733 -1.479546\n",
       "f6             0.43302 -1.167625    0.0128 -0.174326 -1.183899\n",
       "f7             1.14346  1.081185  0.133734  1.410768  0.556934\n",
       "f8            0.590826 -0.024522 -1.437295  2.153012 -1.126765\n",
       "f9             1.11943 -1.229586 -1.064532 -0.728066  0.830092\n",
       "disease_prob  0.024385  0.944053  0.404516  0.030075  0.081149"
      ]
     },
     "execution_count": 145,
     "metadata": {},
     "output_type": "execute_result"
    }
   ],
   "source": [
    "df_m.head().T"
   ]
  },
  {
   "cell_type": "code",
   "execution_count": 146,
   "metadata": {},
   "outputs": [
    {
     "name": "stderr",
     "output_type": "stream",
     "text": [
      "C:\\Users\\tirth\\AppData\\Local\\Temp/ipykernel_99956/927527093.py:4: SettingWithCopyWarning: \n",
      "A value is trying to be set on a copy of a slice from a DataFrame\n",
      "\n",
      "See the caveats in the documentation: https://pandas.pydata.org/pandas-docs/stable/user_guide/indexing.html#returning-a-view-versus-a-copy\n",
      "  Y_tr_cv[ Y_tr_cv >= 0.5 ] = 1\n",
      "c:\\ProgramData\\Anaconda3\\lib\\site-packages\\pandas\\core\\generic.py:8870: SettingWithCopyWarning: \n",
      "A value is trying to be set on a copy of a slice from a DataFrame\n",
      "\n",
      "See the caveats in the documentation: https://pandas.pydata.org/pandas-docs/stable/user_guide/indexing.html#returning-a-view-versus-a-copy\n",
      "  return self._update_inplace(result)\n",
      "C:\\Users\\tirth\\AppData\\Local\\Temp/ipykernel_99956/927527093.py:5: SettingWithCopyWarning: \n",
      "A value is trying to be set on a copy of a slice from a DataFrame\n",
      "\n",
      "See the caveats in the documentation: https://pandas.pydata.org/pandas-docs/stable/user_guide/indexing.html#returning-a-view-versus-a-copy\n",
      "  Y_tr_cv[ Y_tr_cv < 0.5 ] = 0\n"
     ]
    }
   ],
   "source": [
    "Xtest = df_m[df_m[\"disease_prob\"].isna()]\n",
    "X_tr_cv = df_m[~(df_m[\"disease_prob\"].isna())]\n",
    "Y_tr_cv = X_tr_cv[\"disease_prob\"]\n",
    "Y_tr_cv[ Y_tr_cv >= 0.5 ] = 1\n",
    "Y_tr_cv[ Y_tr_cv < 0.5 ] = 0"
   ]
  },
  {
   "cell_type": "code",
   "execution_count": 147,
   "metadata": {},
   "outputs": [],
   "source": [
    "from sklearn.linear_model import LogisticRegression\n",
    "from sklearn.model_selection import train_test_split \n",
    "\n",
    "X_tr, X_cv, Y_tr, Y_cv = train_test_split(X_tr_cv, Y_tr_cv, test_size = 0.2, shuffle = True)\n",
    "X_tr_rdx = X_tr.drop([\"name\", \"disease_prob\"], axis = 1)\n",
    "X_cv_rdx = X_cv.drop([\"name\", \"disease_prob\"], axis = 1)"
   ]
  },
  {
   "cell_type": "code",
   "execution_count": 148,
   "metadata": {},
   "outputs": [
    {
     "data": {
      "text/plain": [
       "((800, 10), (800,), (200, 12), (200,))"
      ]
     },
     "execution_count": 148,
     "metadata": {},
     "output_type": "execute_result"
    }
   ],
   "source": [
    "X_tr_rdx.shape, Y_tr.shape, X_cv.shape, Y_cv.shape"
   ]
  },
  {
   "cell_type": "code",
   "execution_count": 153,
   "metadata": {},
   "outputs": [],
   "source": [
    "lambdas = np.linspace(0.01, 10, 100)\n",
    "tr_loss, te_loss = [], []\n",
    "\n",
    "def accuracy(Yp, Y):\n",
    "    return (Yp == Y).mean()\n",
    "for lmbda in lambdas:\n",
    "    model = LogisticRegression(C = 1/lmbda)\n",
    "    model.fit(X_tr_rdx, Y_tr)\n",
    "    tr_loss.append(accuracy(model.predict(X_tr_rdx), Y_tr))\n",
    "    te_loss.append(accuracy(model.predict(X_cv_rdx), Y_cv))"
   ]
  },
  {
   "cell_type": "code",
   "execution_count": 156,
   "metadata": {},
   "outputs": [
    {
     "name": "stderr",
     "output_type": "stream",
     "text": [
      "c:\\ProgramData\\Anaconda3\\lib\\site-packages\\seaborn\\_decorators.py:36: FutureWarning: Pass the following variables as keyword args: x, y. From version 0.12, the only valid positional argument will be `data`, and passing other arguments without an explicit keyword will result in an error or misinterpretation.\n",
      "  warnings.warn(\n",
      "c:\\ProgramData\\Anaconda3\\lib\\site-packages\\seaborn\\_decorators.py:36: FutureWarning: Pass the following variables as keyword args: x, y. From version 0.12, the only valid positional argument will be `data`, and passing other arguments without an explicit keyword will result in an error or misinterpretation.\n",
      "  warnings.warn(\n"
     ]
    },
    {
     "data": {
      "image/png": "[encoded data removed]",
      "text/plain": [
       "<Figure size 720x432 with 1 Axes>"
      ]
     },
     "metadata": {
      "needs_background": "light"
     },
     "output_type": "display_data"
    }
   ],
   "source": [
    "import matplotlib.pyplot as plt \n",
    "import seaborn as sns\n",
    " \n",
    "plt.figure(figsize=(10, 6))\n",
    "sns.lineplot(lambdas , tr_loss)\n",
    "sns.lineplot(lambdas, te_loss)\n",
    "plt.xlabel('lambda')\n",
    "plt.ylabel('Loss')\n",
    "plt.legend([\"Training Loss\", \"Validation Loss\"])\n",
    "plt.show()"
   ]
  },
  {
   "cell_type": "code",
   "execution_count": 157,
   "metadata": {},
   "outputs": [
    {
     "data": {
      "text/plain": [
       "LogisticRegression(C=3.3333333333333335)"
      ]
     },
     "execution_count": 157,
     "metadata": {},
     "output_type": "execute_result"
    }
   ],
   "source": [
    "X_tr_total = X_tr_cv.drop([\"name\", \"disease_prob\"], axis = 1)\n",
    "lmbda = 0.3 \n",
    "model = LogisticRegression(C = 1/lmbda)\n",
    "model.fit(X_tr_total, Y_tr_cv)"
   ]
  },
  {
   "cell_type": "code",
   "execution_count": 164,
   "metadata": {},
   "outputs": [
    {
     "name": "stdout",
     "output_type": "stream",
     "text": [
      "Model Accuracy: 99.7%\n"
     ]
    }
   ],
   "source": [
    "print(f'Model Accuracy: {accuracy(model.predict(X_tr_total), Y_tr_cv) * 100}%')"
   ]
  },
  {
   "cell_type": "code",
   "execution_count": 165,
   "metadata": {},
   "outputs": [
    {
     "data": {
      "text/plain": [
       "(array([[-7.61998918,  4.04733115, -0.09707868, -0.21748954, -4.96288937,\n",
       "          4.68312372,  0.35320997, -5.02861375, -2.4212442 , -3.5445488 ]]),\n",
       " array([-0.11906608]))"
      ]
     },
     "execution_count": 165,
     "metadata": {},
     "output_type": "execute_result"
    }
   ],
   "source": [
    "model.coef_, model.intercept_"
   ]
  },
  {
   "cell_type": "code",
   "execution_count": null,
   "metadata": {},
   "outputs": [],
   "source": []
  }
 ],
 "metadata": {
  "kernelspec": {
   "display_name": "base",
   "language": "python",
   "name": "python3"
  },
  "language_info": {
   "codemirror_mode": {
    "name": "ipython",
    "version": 3
   },
   "file_extension": ".py",
   "mimetype": "text/x-python",
   "name": "python",
   "nbconvert_exporter": "python",
   "pygments_lexer": "ipython3",
   "version": "3.9.7"
  }
 },
 "nbformat": 4,
 "nbformat_minor": 2
}
